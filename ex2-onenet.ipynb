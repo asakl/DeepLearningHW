{
  "nbformat": 4,
  "nbformat_minor": 0,
  "metadata": {
    "accelerator": "GPU",
    "colab": {
      "name": "Copy of OneNet.ipynb",
      "provenance": [],
      "collapsed_sections": [],
      "machine_shape": "hm"
    },
    "kernelspec": {
      "display_name": "Python 3",
      "name": "python3"
    }
  },
  "cells": [
    {
      "cell_type": "markdown",
      "metadata": {
        "id": "u_DQX6ztFmFB"
      },
      "source": [
        "# Setup"
      ]
    },
    {
      "cell_type": "code",
      "metadata": {
        "id": "afXzzm_jWM39"
      },
      "source": [
        "!git clone https://github.com/PeizeSun/OneNet.git"
      ],
      "execution_count": null,
      "outputs": []
    },
    {
      "cell_type": "code",
      "metadata": {
        "id": "6ArB46hUXgNC"
      },
      "source": [
        "cd OneNet"
      ],
      "execution_count": null,
      "outputs": []
    },
    {
      "cell_type": "code",
      "metadata": {
        "id": "ora4M9KThIwk"
      },
      "source": [
        "!nvcc --version"
      ],
      "execution_count": null,
      "outputs": []
    },
    {
      "cell_type": "code",
      "metadata": {
        "id": "aLOtDDDihcy0"
      },
      "source": [
        "pip install torch==1.7.1+cu101 torchvision==0.8.2+cu101 torchaudio===0.7.2 -f https://download.pytorch.org/whl/torch_stable.html"
      ],
      "execution_count": null,
      "outputs": []
    },
    {
      "cell_type": "code",
      "metadata": {
        "id": "VEOfkYVsW6ck"
      },
      "source": [
        "!python setup.py build develop"
      ],
      "execution_count": null,
      "outputs": []
    },
    {
      "cell_type": "markdown",
      "metadata": {
        "id": "PwA0CZNlaxXg"
      },
      "source": [
        "# Setup dataset and more"
      ]
    },
    {
      "cell_type": "markdown",
      "metadata": {
        "id": "nBZsfZYLQIUB"
      },
      "source": [
        "we need to download the file \"onenet_r18dcn.pth\" from https://drive.google.com/drive/folders/1LnHMj7pkJhODeZTNHW-UcUZxybKbQmTB\n",
        "and place it in the path \"/content/OneNet/configs/\""
      ]
    },
    {
      "cell_type": "code",
      "metadata": {
        "id": "SATmJGGiad0Q"
      },
      "source": [
        "!pip install pyyaml==5.1 pycocotools>=2.0.1"
      ],
      "execution_count": 6,
      "outputs": []
    },
    {
      "cell_type": "code",
      "metadata": {
        "id": "f5-hLPy_Zg9p"
      },
      "source": [
        "import torch, torchvision\n",
        "print(torch.__version__, torch.cuda.is_available())"
      ],
      "execution_count": null,
      "outputs": []
    },
    {
      "cell_type": "code",
      "metadata": {
        "id": "6TNWAF7bW_bN"
      },
      "source": [
        "!mkdir -p datasets/coco\n",
        "!ln -s /path_to_coco_dataset/annotations datasets/coco/annotations\n",
        "!ln -s /path_to_coco_dataset/train2017 datasets/coco/train2017\n",
        "!ln -s /path_to_coco_dataset/val2017 datasets/coco/val2017"
      ],
      "execution_count": 8,
      "outputs": []
    },
    {
      "cell_type": "code",
      "metadata": {
        "id": "kOK3MeUmGn0C"
      },
      "source": [
        "!wget http://images.cocodataset.org/zips/test2017.zip\n",
        "!unzip test2017"
      ],
      "execution_count": null,
      "outputs": []
    },
    {
      "cell_type": "markdown",
      "metadata": {
        "id": "FEQFguZWrMRm"
      },
      "source": [
        "# Evaluate"
      ]
    },
    {
      "cell_type": "code",
      "metadata": {
        "id": "-cm7zqKrYJlj"
      },
      "source": [
        "!python projects/OneNet/train_net.py --num-gpus 1 \\\n",
        "    --config-file projects/OneNet/configs/onenet.res18.dcn.yaml \\\n",
        "    --eval-only MODEL.WEIGHTS /content/OneNet/configs/onenet_r18dcn.pth"
      ],
      "execution_count": null,
      "outputs": []
    },
    {
      "cell_type": "markdown",
      "metadata": {
        "id": "bxiRGTX3rR2-"
      },
      "source": [
        "# Visualize\n",
        "make sure you select image at input"
      ]
    },
    {
      "cell_type": "code",
      "metadata": {
        "id": "qRpGotxpzzZ-"
      },
      "source": [
        "!python demo/demo.py\\\n",
        "    --config-file projects/OneNet/configs/onenet.res18.dcn.yaml \\\n",
        "    --input /content/OneNet/test2017/000000000069.jpg --output /content/OneNet/output_image --confidence-threshold 0.4 \\\n",
        "    --opts MODEL.WEIGHTS /content/OneNet/configs/onenet_r18dcn.pth"
      ],
      "execution_count": null,
      "outputs": []
    },
    {
      "cell_type": "code",
      "metadata": {
        "id": "ug74c2KTP-LR"
      },
      "source": [
        "from IPython.display import Image\n",
        "Image('/content/OneNet/output_image.png')"
      ],
      "execution_count": null,
      "outputs": []
    }
  ]
}